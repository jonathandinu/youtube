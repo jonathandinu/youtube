{
  "cells": [
    {
      "cell_type": "markdown",
      "metadata": {
        "id": "UB6krKNPlaFW"
      },
      "source": [
        "## PyTorch is Just numpy on GPUs\n",
        "\n",
        "[![Open In Colab](https://colab.research.google.com/assets/colab-badge.svg)](https://colab.research.google.com/github/jonathandinu/youtube/blob/main/notebooks/pytorch-intro.ipynb) [![YouTube Video Views](https://img.shields.io/youtube/views/Eaqb_fD7pZw)](https://youtu.be/Eaqb_fD7pZw) [![GitHub Repo stars](https://img.shields.io/github/stars/jonathandinu/youtube?style=social)](https://github.com/jonathandinu/youtube)\n",
        "\n",
        "> Colab for interactive execution in your browser (no setup) and repository for notebook index and additional resources/code."
      ]
    },
    {
      "cell_type": "markdown",
      "metadata": {},
      "source": [
        "## References and Resources\n",
        "\n",
        "* Pytorch Homepage: https://pytorch.org/\n",
        "* PyTorch API Docs: https://docs.pytorch.org/docs/stable/\n",
        "* PyTorch Tutorials: https://docs.pytorch.org/tutorials/\n",
        "* PyTorch Recipes: https://docs.pytorch.org/tutorials/re...\n",
        "* Tensor Creation Ops: https://docs.pytorch.org/docs/stable/...\n",
        "* Lua Torch Homepage: http://torch.ch/"
      ]
    },
    {
      "cell_type": "code",
      "execution_count": 82,
      "metadata": {},
      "outputs": [],
      "source": [
        "import torch"
      ]
    },
    {
      "cell_type": "code",
      "execution_count": 84,
      "metadata": {},
      "outputs": [],
      "source": [
        "x = torch.Tensor([1,2,3])"
      ]
    },
    {
      "cell_type": "code",
      "execution_count": 89,
      "metadata": {},
      "outputs": [
        {
          "data": {
            "text/plain": [
              "tensor([1., 2., 3.], dtype=torch.float64)"
            ]
          },
          "execution_count": 89,
          "metadata": {},
          "output_type": "execute_result"
        }
      ],
      "source": [
        "x.double()"
      ]
    },
    {
      "cell_type": "code",
      "execution_count": 94,
      "metadata": {},
      "outputs": [],
      "source": [
        "x = torch.ones(10)"
      ]
    },
    {
      "cell_type": "code",
      "execution_count": 106,
      "metadata": {},
      "outputs": [],
      "source": [
        "x = torch.arange(10).reshape((2, 5))"
      ]
    },
    {
      "cell_type": "code",
      "execution_count": 107,
      "metadata": {},
      "outputs": [
        {
          "name": "stdout",
          "output_type": "stream",
          "text": [
            "x is a rank 2 tensor.\n"
          ]
        }
      ],
      "source": [
        "print(f\"x is a rank {len(x.shape)} tensor.\")"
      ]
    },
    {
      "cell_type": "code",
      "execution_count": 109,
      "metadata": {},
      "outputs": [
        {
          "data": {
            "text/plain": [
              "array([[0, 1, 2, 3, 4],\n",
              "       [5, 6, 7, 8, 9]])"
            ]
          },
          "execution_count": 109,
          "metadata": {},
          "output_type": "execute_result"
        }
      ],
      "source": [
        "x.numpy()"
      ]
    },
    {
      "cell_type": "code",
      "execution_count": 112,
      "metadata": {},
      "outputs": [
        {
          "data": {
            "text/plain": [
              "False"
            ]
          },
          "execution_count": 112,
          "metadata": {},
          "output_type": "execute_result"
        }
      ],
      "source": [
        "torch.mps.is_available()"
      ]
    },
    {
      "cell_type": "code",
      "execution_count": 113,
      "metadata": {},
      "outputs": [
        {
          "data": {
            "text/plain": [
              "device(type='cpu')"
            ]
          },
          "execution_count": 113,
          "metadata": {},
          "output_type": "execute_result"
        }
      ],
      "source": [
        "x.device"
      ]
    },
    {
      "cell_type": "code",
      "execution_count": 116,
      "metadata": {},
      "outputs": [
        {
          "data": {
            "text/plain": [
              "tensor([[0, 1, 2, 3, 4],\n",
              "        [5, 6, 7, 8, 9]], device='cuda:0')"
            ]
          },
          "execution_count": 116,
          "metadata": {},
          "output_type": "execute_result"
        }
      ],
      "source": [
        "x.to('cuda')#.to('cpu')"
      ]
    },
    {
      "cell_type": "code",
      "execution_count": 118,
      "metadata": {},
      "outputs": [],
      "source": [
        "x = x.to('cuda')"
      ]
    },
    {
      "cell_type": "code",
      "execution_count": 119,
      "metadata": {},
      "outputs": [
        {
          "data": {
            "text/plain": [
              "device(type='cuda', index=0)"
            ]
          },
          "execution_count": 119,
          "metadata": {},
          "output_type": "execute_result"
        }
      ],
      "source": [
        "x.device"
      ]
    },
    {
      "cell_type": "code",
      "execution_count": 122,
      "metadata": {},
      "outputs": [
        {
          "data": {
            "text/plain": [
              "tensor([[ 0,  2,  4,  6,  8],\n",
              "        [10, 12, 14, 16, 18]])"
            ]
          },
          "execution_count": 122,
          "metadata": {},
          "output_type": "execute_result"
        }
      ],
      "source": [
        "x.cpu() + torch.arange(10).reshape((2, 5))"
      ]
    },
    {
      "cell_type": "code",
      "execution_count": 124,
      "metadata": {},
      "outputs": [
        {
          "data": {
            "text/plain": [
              "tensor([[0, 1, 2, 3, 4],\n",
              "        [5, 6, 7, 8, 9]])"
            ]
          },
          "execution_count": 124,
          "metadata": {},
          "output_type": "execute_result"
        }
      ],
      "source": [
        "x.to('cpu')"
      ]
    },
    {
      "cell_type": "code",
      "execution_count": 125,
      "metadata": {},
      "outputs": [
        {
          "data": {
            "text/plain": [
              "tensor([[0, 1, 2, 3, 4],\n",
              "        [5, 6, 7, 8, 9]], device='cuda:0')"
            ]
          },
          "execution_count": 125,
          "metadata": {},
          "output_type": "execute_result"
        }
      ],
      "source": [
        "x.cuda()"
      ]
    },
    {
      "cell_type": "markdown",
      "metadata": {},
      "source": [
        "## Appendix"
      ]
    },
    {
      "cell_type": "code",
      "execution_count": 1,
      "metadata": {},
      "outputs": [
        {
          "name": "stdout",
          "output_type": "stream",
          "text": [
            "Current notebook Python version: 3.12.8 (main, Jan 14 2025, 22:49:14) [Clang 19.1.6 ]\n",
            "Notebook last executed: 2025-05-06 16:34:59.060508\n",
            "aiohttp==3.8.3\n",
            "aiosignal==1.3.1\n",
            "asgiref==3.5.2\n",
            "asttokens==3.0.0\n",
            "async-generator==1.10\n",
            "async-timeout==4.0.2\n",
            "attrs==22.2.0\n",
            "Automat==20.2.0\n",
            "Babel==2.8.0\n",
            "bcrypt==3.2.0\n",
            "blinker==1.4\n",
            "boto==2.49.0\n",
            "botocore==1.29.43\n",
            "certifi==2021.10.8\n",
            "chardet==4.0.0\n",
            "charset-normalizer==2.0.12\n",
            "click==8.0.3\n",
            "cloud-init==24.3.1\n",
            "colorama==0.4.4\n",
            "command-not-found==0.3\n",
            "configobj==5.0.6\n",
            "constantly==15.1.0\n",
            "contourpy==1.3.1\n",
            "cryptography==3.4.8\n",
            "cycler==0.11.0\n",
            "dbus-python==1.2.18\n",
            "decorator==5.1.1\n",
            "distro==1.7.0\n",
            "distro-info==1.1+ubuntu0.2\n",
            "dj-database-url==0.5.0\n",
            "Django==2.2\n",
            "django-cors-headers==2.5.3\n",
            "django-storages-redux==1.3.3\n",
            "exceptiongroup==1.1.0\n",
            "executing==2.2.0\n",
            "fonttools==4.56.0\n",
            "frozenlist==1.3.3\n",
            "gensim==3.8.0\n",
            "git-filter-repo==2.34.0\n",
            "gunicorn==20.1.0\n",
            "gyp==0.1\n",
            "h11==0.14.0\n",
            "httplib2==0.20.2\n",
            "hyperlink==21.0.0\n",
            "idna==3.3\n",
            "importlib-metadata==4.8.2\n",
            "incremental==21.3.0\n",
            "ipdb==0.13.13\n",
            "ipython==8.32.0\n",
            "jedi==0.19.2\n",
            "jeepney==0.7.1\n",
            "Jinja2==3.0.3\n",
            "jmespath==1.0.1\n",
            "joblib==1.4.2\n",
            "jsonpatch==1.32\n",
            "jsonpointer==2.0\n",
            "jsonschema==3.2.0\n",
            "keyring==23.5.0\n",
            "kiwisolver==1.4.4\n",
            "launchpadlib==1.10.16\n",
            "lazr.restfulclient==0.14.4\n",
            "lazr.uri==1.0.6\n",
            "llfuse==1.3.8\n",
            "MarkupSafe==2.0.1\n",
            "matplotlib==3.7.2\n",
            "matplotlib-inline==0.1.7\n",
            "more-itertools==8.10.0\n",
            "msgpack==1.0.3\n",
            "multidict==6.0.4\n",
            "netifaces==0.11.0\n",
            "nltk==3.6.5\n",
            "numpy==1.25.2\n",
            "oauthlib==3.2.0\n",
            "openai==0.27.0\n",
            "outcome==1.2.0\n",
            "packaging==23.0\n",
            "pandas==2.0.3\n",
            "parso==0.8.4\n",
            "patsy==0.5.3\n",
            "peewee==3.17.9\n",
            "pexpect==4.9.0\n",
            "Pillow==8.4.0\n",
            "prompt_toolkit==3.0.50\n",
            "psycopg2-binary==2.9.5\n",
            "ptyprocess==0.7.0\n",
            "pure_eval==0.2.3\n",
            "pyasn1==0.4.8\n",
            "pyasn1-modules==0.2.1\n",
            "pycparser==2.21\n",
            "pycurl==7.44.1\n",
            "pyfuse3==3.2.0\n",
            "Pygments==2.19.1\n",
            "PyGObject==3.42.1\n",
            "PyHamcrest==2.0.2\n",
            "PyJWT==2.3.0\n",
            "PyOpenGL==3.1.5\n",
            "pyOpenSSL==21.0.0\n",
            "pyparsing==3.0.6\n",
            "PyQt5==5.15.6\n",
            "PyQt5-sip==12.9.1\n",
            "pyrsistent==0.18.1\n",
            "pyserial==3.5\n",
            "PySocks==1.7.1\n",
            "python-apt==2.4.0+ubuntu4\n",
            "python-dateutil==2.8.2\n",
            "python-prctl==1.7\n",
            "pytz==2021.3\n",
            "PyYAML==5.4.1\n",
            "regex==2021.11.10\n",
            "requests==2.26.0\n",
            "s3transfer==0.6.0\n",
            "scikit-learn==1.3.0\n",
            "scikit-posthocs==0.7.0\n",
            "scipy==1.11.1\n",
            "seaborn==0.12.2\n",
            "SecretStorage==3.3.1\n",
            "selenium==4.8.2\n",
            "service-identity==18.1.0\n",
            "six==1.16.0\n",
            "sklearn==0.0\n",
            "smart-open==5.2.1\n",
            "sniffio==1.3.0\n",
            "sortedcontainers==2.4.0\n",
            "sqlparse==0.4.3\n",
            "stack-data==0.6.3\n",
            "statsmodels==0.13.5\n",
            "systemd-python==234\n",
            "threadpoolctl==3.0.0\n",
            "tomli==2.2.1\n",
            "tqdm==4.62.3\n",
            "traitlets==5.14.3\n",
            "trio==0.22.0\n",
            "trio-websocket==0.9.2\n",
            "trueskill==0.4.5\n",
            "Twisted==22.1.0\n",
            "typing_extensions==4.12.2\n",
            "tzdata==2025.1\n",
            "ubuntu-pro-client==8001\n",
            "ufw==0.36.1\n",
            "unattended-upgrades==0.1\n",
            "urllib3==1.26.7\n",
            "wadllib==1.3.6\n",
            "wcwidth==0.2.13\n",
            "wsproto==1.2.0\n",
            "yarl==1.8.2\n",
            "yellowbrick==1.5\n",
            "zipp==3.6.0\n",
            "zope.interface==5.4.0\n"
          ]
        }
      ],
      "source": [
        "# version of Python of the current Jupyter kernel\n",
        "import sys, datetime\n",
        "\n",
        "print(f\"Current notebook Python version: {sys.version}\")\n",
        "print(f\"Notebook last executed: {datetime.datetime.now()}\")\n",
        "\n",
        "# package versions when this notebook was last run (and committed)\n",
        "!pip freeze"
      ]
    }
  ],
  "metadata": {
    "accelerator": "GPU",
    "colab": {
      "gpuType": "L4",
      "machine_shape": "hm",
      "provenance": []
    },
    "kernelspec": {
      "display_name": "youtube",
      "language": "python",
      "name": "python3"
    },
    "language_info": {
      "codemirror_mode": {
        "name": "ipython",
        "version": 3
      },
      "file_extension": ".py",
      "mimetype": "text/x-python",
      "name": "python",
      "nbconvert_exporter": "python",
      "pygments_lexer": "ipython3",
      "version": "3.12.8"
    }
  },
  "nbformat": 4,
  "nbformat_minor": 0
}
